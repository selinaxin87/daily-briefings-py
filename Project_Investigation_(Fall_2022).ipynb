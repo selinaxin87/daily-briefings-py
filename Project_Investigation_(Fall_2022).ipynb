{
  "nbformat": 4,
  "nbformat_minor": 0,
  "metadata": {
    "colab": {
      "provenance": [],
      "include_colab_link": true
    },
    "kernelspec": {
      "name": "python3",
      "display_name": "Python 3"
    },
    "language_info": {
      "name": "python"
    },
    "accelerator": "GPU",
    "gpuClass": "standard"
  },
  "cells": [
    {
      "cell_type": "markdown",
      "metadata": {
        "id": "view-in-github",
        "colab_type": "text"
      },
      "source": [
        "<a href=\"https://colab.research.google.com/github/selinaxin87/daily-briefings-py/blob/main/Project_Investigation_(Fall_2022).ipynb\" target=\"_parent\"><img src=\"https://colab.research.google.com/assets/colab-badge.svg\" alt=\"Open In Colab\"/></a>"
      ]
    },
    {
      "cell_type": "markdown",
      "source": [
        "# Project Description\n",
        "\n",
        "\n",
        "\n"
      ],
      "metadata": {
        "id": "Orzu6Ticqc5D"
      }
    },
    {
      "cell_type": "markdown",
      "source": [
        "This app fetches pricing information for a given game across all available regions on STEAM, and displays the location with the lowest price from which the user may obtain the game they want.\n",
        "\n",
        "\n",
        "\n",
        "\n"
      ],
      "metadata": {
        "id": "QtAKkwW6mex1"
      }
    },
    {
      "cell_type": "markdown",
      "source": [
        "\n",
        "Specifically, we will use the  AlphaVantage API's [\"Currency Exchange Rate\"](https://www.alphavantage.co/documentation/#currency-exchange) endpoint to **request real time exchange rates** for a given currency. \n",
        ">NOTE: We will compare prices under all [available currencies](https://partner.steamgames.com/doc/store/pricing/currencies) for a given game."
      ],
      "metadata": {
        "id": "AfqHoHor_3ED"
      }
    },
    {
      "cell_type": "markdown",
      "source": [
        "# Functionality Overview"
      ],
      "metadata": {
        "id": "BkJn0WByh7Jx"
      }
    },
    {
      "cell_type": "markdown",
      "source": [
        "\n",
        "\n",
        "\n",
        "We ask the user to input the app ID of a selected game. The corresponding app ID of the game would be provided within a separate link. \n",
        "\n",
        "We make a request for the prices of the selected games in all available STEAM regions, then convert the resulting prices into USD. \n",
        "\n",
        "Finally, we will display the lowest of the converted price in USD and make recommendation to the user on which regional STEAM store to purchase the selected game. \n",
        "\n",
        "\n"
      ],
      "metadata": {
        "id": "V6wchUMeiEtK"
      }
    },
    {
      "cell_type": "markdown",
      "source": [
        "# Information Requirements"
      ],
      "metadata": {
        "id": "fV_oIDIsj3pp"
      }
    },
    {
      "cell_type": "markdown",
      "source": [
        "### Information Inputs\n",
        "\n",
        "  + Selected app ID\n",
        "  + API response"
      ],
      "metadata": {
        "id": "lQoXKlwui6Qj"
      }
    },
    {
      "cell_type": "markdown",
      "source": [
        "### Information Outputs\n",
        "\n",
        "  + API request\n",
        "  + Printed lowest "
      ],
      "metadata": {
        "id": "hQZ4kmlbi6yK"
      }
    },
    {
      "cell_type": "markdown",
      "source": [
        "# Setup / Configuration"
      ],
      "metadata": {
        "id": "j2qTx44T9Wjo"
      }
    },
    {
      "cell_type": "markdown",
      "source": [
        "## API Credentials"
      ],
      "metadata": {
        "id": "W_jIhqQMe8Jy"
      }
    },
    {
      "cell_type": "markdown",
      "source": [
        "\n",
        "To run the app, you first need to first obtain an [AlphaVantage API Key](https://www.alphavantage.co/support/#api-key). A normal key should be fine, but alternatively you can use one of the prof's \"premium\" keys. Once obtained, you will be asked to securely input this API Key via the setup cell below:"
      ],
      "metadata": {
        "id": "7pvBUBGDmgp9"
      }
    },
    {
      "cell_type": "code",
      "source": [
        "#\n",
        "# SETUP CELL (SECURE HANDLING OF SECRET CREDENTIALS)\n",
        "#\n",
        "# Run this cell to ask the user to securely input the API Key.\n",
        "# Since the API Key is a secret credential like a password, \n",
        "# ... we want to avoid hard-coding or exposing it.\n",
        "#\n",
        "\n",
        "from getpass import getpass\n",
        "\n",
        "API_KEY = getpass(\"Please input your AlphaVantage API Key: \")"
      ],
      "metadata": {
        "id": "volez18go4Xw",
        "colab": {
          "base_uri": "https://localhost:8080/"
        },
        "outputId": "f7ca75db-ebdb-4e41-f021-9036fe78435a"
      },
      "execution_count": null,
      "outputs": [
        {
          "name": "stdout",
          "output_type": "stream",
          "text": [
            "Please input your AlphaVantage API Key: ··········\n"
          ]
        }
      ]
    },
    {
      "cell_type": "markdown",
      "source": [
        "##Downloading Country Codes (CSV file)"
      ],
      "metadata": {
        "id": "FgGSNts2SGbI"
      }
    },
    {
      "cell_type": "code",
      "source": [
        "import os\n",
        "\n",
        "url = \"https://raw.githubusercontent.com/lukes/ISO-3166-Countries-with-Regional-Codes/master/all/all.csv\"\n",
        "filepath = \"all.csv\"\n",
        "\n",
        "if not os.path.isfile(filepath):\n",
        "    print(\"DOWNLOADING\", filepath)\n",
        "    # FYI: this wget command is a terminal command, NOT python\n",
        "    # ... in colab, we can execute terminal commands by prefixing them with an exclamation point\n",
        "    !wget -q $url \n",
        "\n",
        "# this should say True if the file got downloaded properly:\n",
        "print(os.path.isfile(filepath))"
      ],
      "metadata": {
        "colab": {
          "base_uri": "https://localhost:8080/"
        },
        "id": "y7UDwQEUO0bs",
        "outputId": "cb7372c4-355f-45e4-9c76-e309f6213572"
      },
      "execution_count": null,
      "outputs": [
        {
          "output_type": "stream",
          "name": "stdout",
          "text": [
            "DOWNLOADING all.csv\n",
            "True\n"
          ]
        }
      ]
    },
    {
      "cell_type": "code",
      "source": [
        "from pandas import read_csv\n",
        "country_codes_df = read_csv(\"all.csv\")\n",
        "country_codes = country_codes_df.to_dict(\"records\")"
      ],
      "metadata": {
        "id": "PRFJy4UKShab"
      },
      "execution_count": null,
      "outputs": []
    },
    {
      "cell_type": "markdown",
      "source": [
        "##Currency Conversion"
      ],
      "metadata": {
        "id": "Wkf2pwml5_Hv"
      }
    },
    {
      "cell_type": "code",
      "source": [
        "import urllib.request, json \n",
        "\n",
        "def conversion(lowest_currency,lowest_price):\n",
        "    with urllib.request.urlopen(f'https://www.alphavantage.co/query?function=CURRENCY_EXCHANGE_RATE&from_currency={lowest_currency}&to_currency=USD&apikey={API_KEY}') as url:\n",
        "        data3 = json.load(url)\n",
        "        if \"Realtime Currency Exchange Rate\" in data3:\n",
        "            rt = float(data3[\"Realtime Currency Exchange Rate\"][\"5. Exchange Rate\"])\n",
        "            converted_price = rt * lowest_price\n",
        "            print(\"-----------\")\n",
        "            print(rt)\n",
        "            print(lowest_price)\n",
        "            print(converted_price)\n",
        "            return converted_price\n",
        "        else:\n",
        "            # print(\"Exchange Rate does not exist\")\n",
        "            return None\n",
        "\n"
      ],
      "metadata": {
        "id": "52Y3vTdhynTn"
      },
      "execution_count": null,
      "outputs": []
    },
    {
      "cell_type": "markdown",
      "source": [
        "# Usage\n"
      ],
      "metadata": {
        "id": "kw8ptl8t4ZqV"
      }
    },
    {
      "cell_type": "code",
      "source": [
        "import requests\n",
        "import json\n",
        "\n",
        "all_codes=[]\n",
        "app_list=[]\n",
        "\n",
        "for c in country_codes:\n",
        "    all_codes.append(str(c[\"alpha-2\"]))\n",
        "\n",
        "#print(all_codes)\n",
        "\n",
        "request_url = \"https://api.steampowered.com/ISteamApps/GetAppList/v2/\"  \n",
        "response = requests.get(request_url)\n",
        "data = json.loads(response.text)\n",
        "\n",
        "for d in data[\"applist\"][\"apps\"]:\n",
        "    app_list.append(str(d[\"appid\"]))\n",
        "\n",
        "#print(app_list)\n",
        "\n",
        "app_id=input(\"Please enter the app id for the game you would like to purchase: \") \n",
        "\n",
        "while app_id not in app_list: \n",
        "        print (\"Oops! Invalid app id. Please reenter: \")\n",
        "        app_id=input()\n"
      ],
      "metadata": {
        "id": "W_Z7xHUHaBTb",
        "colab": {
          "base_uri": "https://localhost:8080/"
        },
        "outputId": "ef463867-6b0f-495b-ddbd-49bcac7b13fe"
      },
      "execution_count": null,
      "outputs": [
        {
          "name": "stdout",
          "output_type": "stream",
          "text": [
            "Please enter the app id for the game you would like to purchase: 998940\n"
          ]
        }
      ]
    },
    {
      "cell_type": "code",
      "source": [
        "print(app_id)\n",
        "# print(code)"
      ],
      "metadata": {
        "id": "ZiSTTW52wg_O",
        "colab": {
          "base_uri": "https://localhost:8080/"
        },
        "outputId": "1cdad89b-80a0-40b1-abf2-d0b1a782def4"
      },
      "execution_count": null,
      "outputs": [
        {
          "output_type": "stream",
          "name": "stdout",
          "text": [
            "861884\n"
          ]
        }
      ]
    },
    {
      "cell_type": "code",
      "source": [
        "lowest_price=1000000\n",
        "lowest_currency=\"none\"\n",
        "location=\"none\"\n",
        "\n",
        "for code in all_codes:\n",
        "        request_url=f\"http://store.steampowered.com/api/appdetails?appids={app_id}&cc={code}&filters=price_overview\"\n",
        "        response = requests.get(request_url)\n",
        "        data2 = json.loads(response.text)\n",
        "        if data2 is not None:\n",
        "            if data2[app_id][\"success\"]==False:\n",
        "                lowest_price=lowest_price\n",
        "                lowest_currency=lowest_currency\n",
        "            else:\n",
        "                if len(data2[app_id][\"data\"])==0:\n",
        "                    print(\"This game is yet to be released. Please check later.\")\n",
        "                    break\n",
        "                else:\n",
        "                    price = data2[app_id][\"data\"][\"price_overview\"][\"final\"]/100\n",
        "                    currency = data2[app_id][\"data\"][\"price_overview\"][\"currency\"]\n",
        "                    price_in_usd=conversion(currency,price)\n",
        "                    if price_in_usd is None:\n",
        "                        continue\n",
        "                    elif price_in_usd < lowest_price:\n",
        "                        lowest_price = price_in_usd\n",
        "                        lowest_currency = currency\n",
        "\n",
        "if lowest_price != 1000000:\n",
        "    print(\"Your selected game is cheapest in\",lowest_currency,\".\")\n",
        "    print(\"The lowest price in US dollar value is $%.2f.\"%(lowest_price))\n"
      ],
      "metadata": {
        "id": "mtbMrHvbufkM",
        "colab": {
          "base_uri": "https://localhost:8080/"
        },
        "outputId": "96998a7a-0b12-4432-dda1-da03f069274c"
      },
      "execution_count": null,
      "outputs": [
        {
          "output_type": "stream",
          "name": "stdout",
          "text": [
            "-----------\n",
            "0.14334656\n",
            "28.0\n",
            "4.013703680000001\n",
            "-----------\n",
            "0.1286455\n",
            "38.0\n",
            "4.888529\n",
            "-----------\n",
            "1.0\n",
            "6.99\n",
            "6.99\n",
            "-----------\n",
            "0.03271823\n",
            "138.0\n",
            "4.51511574\n",
            "Your selected game is cheapest in CNY .\n",
            "The lowest price in US dollar value is $4.01.\n"
          ]
        }
      ]
    }
  ]
}